{
 "cells": [
  {
   "cell_type": "code",
   "execution_count": 1,
   "id": "5a555fda",
   "metadata": {},
   "outputs": [],
   "source": [
    "\n",
    "import TestPC\n",
    "import os, time\n",
    "import sys\n",
    "sys.path.append(\"\")\n",
    "import unittest\n",
    "import hashlib\n",
    "import numpy as np\n",
    "from causallearn.search.ConstraintBased.PC import pc\n",
    "from causallearn.utils.cit import chisq, fisherz, gsq, kci, mv_fisherz, d_separation\n",
    "from causallearn.graph.SHD import SHD\n",
    "from causallearn.utils.DAG2CPDAG import dag2cpdag\n",
    "from causallearn.utils.TXT2GeneralGraph import txt2generalgraph"
   ]
  },
  {
   "cell_type": "code",
   "execution_count": 6,
   "id": "f9373ed9",
   "metadata": {},
   "outputs": [
    {
     "ename": "AttributeError",
     "evalue": "module 'TestPC' has no attribute 'test_pc_load_linear_10_with_fisher_z'",
     "output_type": "error",
     "traceback": [
      "\u001b[0;31m---------------------------------------------------------------------------\u001b[0m",
      "\u001b[0;31mAttributeError\u001b[0m                            Traceback (most recent call last)",
      "Cell \u001b[0;32mIn[6], line 1\u001b[0m\n\u001b[0;32m----> 1\u001b[0m \u001b[43mTestPC\u001b[49m\u001b[38;5;241;43m.\u001b[39;49m\u001b[43mtest_pc_load_linear_10_with_fisher_z\u001b[49m()\n",
      "\u001b[0;31mAttributeError\u001b[0m: module 'TestPC' has no attribute 'test_pc_load_linear_10_with_fisher_z'"
     ]
    }
   ],
   "source": [
    "\n",
    "TestPC.test_pc_load_linear_10_with_fisher_z()"
   ]
  },
  {
   "cell_type": "code",
   "execution_count": 2,
   "id": "1358bb70",
   "metadata": {},
   "outputs": [
    {
     "name": "stdout",
     "output_type": "stream",
     "text": [
      "Now start test_pc_load_linear_10_with_fisher_z ...\n"
     ]
    },
    {
     "data": {
      "application/vnd.jupyter.widget-view+json": {
       "model_id": "0f78b0f1c3734b90b309e3fc38b26770",
       "version_major": 2,
       "version_minor": 0
      },
      "text/plain": [
       "  0%|          | 0/20 [00:00<?, ?it/s]"
      ]
     },
     "metadata": {},
     "output_type": "display_data"
    },
    {
     "name": "stdout",
     "output_type": "stream",
     "text": [
      "    pc(data, 0.05, fisherz)\tSHD: 12 of 30\n"
     ]
    },
    {
     "data": {
      "application/vnd.jupyter.widget-view+json": {
       "model_id": "2361dad7527240e6b50b0708ed298885",
       "version_major": 2,
       "version_minor": 0
      },
      "text/plain": [
       "  0%|          | 0/20 [00:00<?, ?it/s]"
      ]
     },
     "metadata": {},
     "output_type": "display_data"
    },
    {
     "name": "stdout",
     "output_type": "stream",
     "text": [
      "    pc(data, 0.05, fisherz, True, 0, 0)\tSHD: 7 of 30\n"
     ]
    },
    {
     "data": {
      "application/vnd.jupyter.widget-view+json": {
       "model_id": "76b698c38c3847a5a5eeb8889b723756",
       "version_major": 2,
       "version_minor": 0
      },
      "text/plain": [
       "  0%|          | 0/20 [00:00<?, ?it/s]"
      ]
     },
     "metadata": {},
     "output_type": "display_data"
    },
    {
     "name": "stdout",
     "output_type": "stream",
     "text": [
      "    pc(data, 0.05, fisherz, True, 0, 1)\tSHD: 13 of 30\n"
     ]
    },
    {
     "data": {
      "application/vnd.jupyter.widget-view+json": {
       "model_id": "99d7e12e3fc74169a5f5dd5bb72900a3",
       "version_major": 2,
       "version_minor": 0
      },
      "text/plain": [
       "  0%|          | 0/20 [00:00<?, ?it/s]"
      ]
     },
     "metadata": {},
     "output_type": "display_data"
    },
    {
     "name": "stdout",
     "output_type": "stream",
     "text": [
      "    pc(data, 0.05, fisherz, True, 0, 3)\tSHD: 7 of 30\n"
     ]
    },
    {
     "data": {
      "application/vnd.jupyter.widget-view+json": {
       "model_id": "353554f10cc44b4badbe1e5881a40fba",
       "version_major": 2,
       "version_minor": 0
      },
      "text/plain": [
       "  0%|          | 0/20 [00:00<?, ?it/s]"
      ]
     },
     "metadata": {},
     "output_type": "display_data"
    },
    {
     "name": "stdout",
     "output_type": "stream",
     "text": [
      "    pc(data, 0.05, fisherz, True, 0, 4)\tSHD: 8 of 30\n"
     ]
    },
    {
     "data": {
      "application/vnd.jupyter.widget-view+json": {
       "model_id": "ac716afb3e404f9a8d052b4a066423c2",
       "version_major": 2,
       "version_minor": 0
      },
      "text/plain": [
       "  0%|          | 0/20 [00:00<?, ?it/s]"
      ]
     },
     "metadata": {},
     "output_type": "display_data"
    },
    {
     "name": "stdout",
     "output_type": "stream",
     "text": [
      "    pc(data, 0.05, fisherz, True, 1, -1)\tSHD: 8 of 30\n"
     ]
    },
    {
     "data": {
      "application/vnd.jupyter.widget-view+json": {
       "model_id": "b31ed66f69774677a766d4f185ec8a8f",
       "version_major": 2,
       "version_minor": 0
      },
      "text/plain": [
       "  0%|          | 0/20 [00:00<?, ?it/s]"
      ]
     },
     "metadata": {},
     "output_type": "display_data"
    },
    {
     "name": "stdout",
     "output_type": "stream",
     "text": [
      "    pc(data, 0.05, fisherz, True, 2, -1)\tSHD: 8 of 30\n",
      "test_pc_load_linear_10_with_fisher_z passed!\n",
      "\n"
     ]
    }
   ],
   "source": [
    "print('Now start test_pc_load_linear_10_with_fisher_z ...')\n",
    "data_path = \"TestData/data_linear_10.txt\"\n",
    "truth_graph_path = \"TestData/graph.10.txt\"\n",
    "data = np.loadtxt(data_path, skiprows=1)\n",
    "truth_dag = txt2generalgraph(truth_graph_path) # truth_dag is a GeneralGraph instance\n",
    "truth_cpdag = dag2cpdag(truth_dag)\n",
    "num_edges_in_truth = truth_dag.get_num_edges()\n",
    "\n",
    "# Run PC with default parameters: stable=True, uc_rule=0 (uc_sepset), uc_priority=2 (prioritize existing colliders)\n",
    "cg = pc(data, 0.05, fisherz)  # Run PC and obtain the estimated graph (cg is CausalGraph object)\n",
    "benchmark_returned_graph = np.loadtxt(\"TestData/benchmark_returned_results/linear_10_pc_fisherz_0.05_stable_0_2.txt\")\n",
    "assert np.all(cg.G.graph == benchmark_returned_graph), INCONSISTENT_RESULT_GRAPH_ERRMSG\n",
    "shd = SHD(truth_cpdag, cg.G)\n",
    "print(f\"    pc(data, 0.05, fisherz)\\tSHD: {shd.get_shd()} of {num_edges_in_truth}\")\n",
    "\n",
    "# Run PC with: stable=True, uc_rule=0 (uc_sepset), uc_priority=0 (overwrite)\n",
    "cg = pc(data, 0.05, fisherz, True, 0, 0)\n",
    "benchmark_returned_graph = np.loadtxt(\"TestData/benchmark_returned_results/linear_10_pc_fisherz_0.05_stable_0_0.txt\")\n",
    "assert np.all(cg.G.graph == benchmark_returned_graph), INCONSISTENT_RESULT_GRAPH_ERRMSG\n",
    "shd = SHD(truth_cpdag, cg.G)\n",
    "print(f\"    pc(data, 0.05, fisherz, True, 0, 0)\\tSHD: {shd.get_shd()} of {num_edges_in_truth}\")\n",
    "\n",
    "# Run PC with: stable=True, uc_rule=0 (uc_sepset), uc_priority=1 (orient bi-directed)\n",
    "cg = pc(data, 0.05, fisherz, True, 0, 1)\n",
    "benchmark_returned_graph = np.loadtxt(\"TestData/benchmark_returned_results/linear_10_pc_fisherz_0.05_stable_0_1.txt\")\n",
    "assert np.all(cg.G.graph == benchmark_returned_graph), INCONSISTENT_RESULT_GRAPH_ERRMSG\n",
    "shd = SHD(truth_cpdag, cg.G)\n",
    "print(f\"    pc(data, 0.05, fisherz, True, 0, 1)\\tSHD: {shd.get_shd()} of {num_edges_in_truth}\")\n",
    "\n",
    "# Run PC with: stable=True, uc_rule=0 (uc_sepset), uc_priority=3 (prioritize stronger colliders)\n",
    "cg = pc(data, 0.05, fisherz, True, 0, 3)\n",
    "benchmark_returned_graph = np.loadtxt(\"TestData/benchmark_returned_results/linear_10_pc_fisherz_0.05_stable_0_3.txt\")\n",
    "assert np.all(cg.G.graph == benchmark_returned_graph), INCONSISTENT_RESULT_GRAPH_ERRMSG\n",
    "shd = SHD(truth_cpdag, cg.G)\n",
    "print(f\"    pc(data, 0.05, fisherz, True, 0, 3)\\tSHD: {shd.get_shd()} of {num_edges_in_truth}\")\n",
    "\n",
    "# Run PC with: stable=True, uc_rule=0 (uc_sepset), uc_priority=4 (prioritize stronger* colliders)\n",
    "cg = pc(data, 0.05, fisherz, True, 0, 4)\n",
    "benchmark_returned_graph = np.loadtxt(\"TestData/benchmark_returned_results/linear_10_pc_fisherz_0.05_stable_0_4.txt\")\n",
    "assert np.all(cg.G.graph == benchmark_returned_graph), INCONSISTENT_RESULT_GRAPH_ERRMSG\n",
    "shd = SHD(truth_cpdag, cg.G)\n",
    "print(f\"    pc(data, 0.05, fisherz, True, 0, 4)\\tSHD: {shd.get_shd()} of {num_edges_in_truth}\")\n",
    "\n",
    "# Run PC with: stable=True, uc_rule=1 (maxP), uc_priority=-1 (whatever is default in uc_rule\n",
    "cg = pc(data, 0.05, fisherz, True, 1, -1)\n",
    "benchmark_returned_graph = np.loadtxt(\"TestData/benchmark_returned_results/linear_10_pc_fisherz_0.05_stable_1_-1.txt\")\n",
    "assert np.all(cg.G.graph == benchmark_returned_graph), INCONSISTENT_RESULT_GRAPH_ERRMSG\n",
    "shd = SHD(truth_cpdag, cg.G)\n",
    "print(f\"    pc(data, 0.05, fisherz, True, 1, -1)\\tSHD: {shd.get_shd()} of {num_edges_in_truth}\")\n",
    "\n",
    "# Run PC with: stable=True, uc_rule=2 (definiteMaxP), uc_priority=-1 (whatever is default in uc_rule\n",
    "cg = pc(data, 0.05, fisherz, True, 2, -1)\n",
    "benchmark_returned_graph = np.loadtxt(\"TestData/benchmark_returned_results/linear_10_pc_fisherz_0.05_stable_2_-1.txt\")\n",
    "assert np.all(cg.G.graph == benchmark_returned_graph), INCONSISTENT_RESULT_GRAPH_ERRMSG\n",
    "shd = SHD(truth_cpdag, cg.G)\n",
    "print(f\"    pc(data, 0.05, fisherz, True, 2, -1)\\tSHD: {shd.get_shd()} of {num_edges_in_truth}\")\n",
    "\n",
    "print('test_pc_load_linear_10_with_fisher_z passed!\\n')"
   ]
  },
  {
   "cell_type": "code",
   "execution_count": null,
   "id": "9189f0ac",
   "metadata": {},
   "outputs": [],
   "source": []
  }
 ],
 "metadata": {
  "kernelspec": {
   "display_name": "Python 3 (ipykernel)",
   "language": "python",
   "name": "python3"
  },
  "language_info": {
   "codemirror_mode": {
    "name": "ipython",
    "version": 3
   },
   "file_extension": ".py",
   "mimetype": "text/x-python",
   "name": "python",
   "nbconvert_exporter": "python",
   "pygments_lexer": "ipython3",
   "version": "3.9.18"
  }
 },
 "nbformat": 4,
 "nbformat_minor": 5
}
